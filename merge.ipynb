{
 "cells": [
  {
   "cell_type": "code",
   "execution_count": null,
   "metadata": {},
   "outputs": [],
   "source": [
    "pip install openpyxl"
   ]
  },
  {
   "cell_type": "code",
   "execution_count": 1,
   "metadata": {},
   "outputs": [],
   "source": [
    "# importing the required modules\n",
    "import glob\n",
    "import pandas as pd\n",
    "\n",
    "\n",
    "\n",
    "# specifying the path to csv files\n",
    "path = 'C:/Users/User/Documents/data-analytics'\n",
    "\n",
    "# csv files in the path\n",
    "file_list = glob.glob(path + \"/*.xlsx\")\n",
    "\n",
    "# list of excel files we want to merge.\n",
    "# pd.read_excel(file_path) reads the \n",
    "# excel data into pandas dataframe.\n",
    "excl_list = []\n",
    "\n",
    "for file in file_list:\n",
    "\texcl_list.append(pd.read_excel(file))\n",
    " \n",
    "# concatenate all DataFrames in the list\n",
    "# into a single DataFrame, returns new \n",
    "# DataFrame.\n",
    "excl_merged = pd.concat(excl_list, ignore_index=True)\n",
    "\n",
    "excl_merged.drop_duplicates(subset=['Open'], keep=False)\n",
    "\n",
    "# exports the dataframe into excel file\n",
    "# with specified name.\n",
    "excl_merged.to_excel('Bank_Stocks.xlsx', index=False)"
   ]
  }
 ],
 "metadata": {
  "kernelspec": {
   "display_name": "Python 3",
   "language": "python",
   "name": "python3"
  },
  "language_info": {
   "codemirror_mode": {
    "name": "ipython",
    "version": 3
   },
   "file_extension": ".py",
   "mimetype": "text/x-python",
   "name": "python",
   "nbconvert_exporter": "python",
   "pygments_lexer": "ipython3",
   "version": "3.12.0"
  }
 },
 "nbformat": 4,
 "nbformat_minor": 2
}
